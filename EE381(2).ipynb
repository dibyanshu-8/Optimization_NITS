{
  "nbformat": 4,
  "nbformat_minor": 0,
  "metadata": {
    "colab": {
      "provenance": [],
      "authorship_tag": "ABX9TyOvA547S/OjiSeF3p2OH6el",
      "include_colab_link": true
    },
    "kernelspec": {
      "name": "python3",
      "display_name": "Python 3"
    },
    "language_info": {
      "name": "python"
    }
  },
  "cells": [
    {
      "cell_type": "markdown",
      "metadata": {
        "id": "view-in-github",
        "colab_type": "text"
      },
      "source": [
        "<a href=\"https://colab.research.google.com/github/dibyanshu-8/Optimization_NITS/blob/main/EE381(2).ipynb\" target=\"_parent\"><img src=\"https://colab.research.google.com/assets/colab-badge.svg\" alt=\"Open In Colab\"/></a>"
      ]
    },
    {
      "cell_type": "markdown",
      "source": [
        "# **Design of a single layer neuron to predict the population.**\n",
        "\n"
      ],
      "metadata": {
        "id": "6sRZzYLnQebN"
      }
    },
    {
      "cell_type": "code",
      "source": [
        "import csv\n",
        "import numpy as np"
      ],
      "metadata": {
        "id": "pXMtABErRE8u"
      },
      "execution_count": 4,
      "outputs": []
    },
    {
      "cell_type": "code",
      "source": [
        "def Load_Data(filename):\n",
        "    population=[]\n",
        "    years=[]\n",
        "    with open(filename,'r') as file:\n",
        "      csv_reader=csv.reader(file)\n",
        "      next(csv_reader)\n",
        "      for row in csv_reader:\n",
        "        year=int(row[1])\n",
        "        years.append(year)\n",
        "        pop_str=row[2].replace('M','').replace(',','')\n",
        "        pop_value=float(pop_str)\n",
        "        population.append(pop_value)\n",
        "    return years,population\n",
        "filename='/content/Population growth in India.csv.csv'\n",
        "years,population=Load_Data(filename)\n",
        "\n"
      ],
      "metadata": {
        "id": "BHxqch4-RzUt"
      },
      "execution_count": 5,
      "outputs": []
    },
    {
      "cell_type": "code",
      "source": [
        "inputs=[population[i:i+3] for i in range(len(population)-3)]\n",
        "targets=population[3:]"
      ],
      "metadata": {
        "id": "d9xUgkx6YyZ9"
      },
      "execution_count": 6,
      "outputs": []
    },
    {
      "cell_type": "code",
      "source": [
        "w1,w2,w3=0.1,0.1,0.1\n",
        "b=0\n",
        "alpha=0.0000001\n",
        "iteration=1000"
      ],
      "metadata": {
        "id": "97FgxXmEZfMU"
      },
      "execution_count": 7,
      "outputs": []
    },
    {
      "cell_type": "code",
      "source": [
        "for i in range(iteration):\n",
        "  total_error=0\n",
        "  dw1=0\n",
        "  dw2=0\n",
        "  dw3=0\n",
        "  db=0\n",
        "  for j in range(len(inputs)):\n",
        "    x1,x2,x3=inputs[j]\n",
        "    y_hat=(w1*x1+w2*x2+w3*x3)+b\n",
        "    y=targets[j]\n",
        "\n",
        "    error=y_hat-y\n",
        "    total_error=total_error+(error*error)\n",
        "    dw1=dw1+(2*error*x1)\n",
        "    dw2=dw2+(2*error*x2)\n",
        "    dw3=dw3+(2*error*x3)\n",
        "    db=db+(2*error)\n",
        "\n",
        "  w1=w1-(alpha*dw1)/(len(inputs))\n",
        "  w2=w2-(alpha*dw2)/(len(inputs))\n",
        "  w3=w3-(alpha*dw3)/(len(inputs))\n",
        "  b=b-(alpha*db)/(len(inputs))\n",
        "\n",
        "print(f\"trained weights:w1={w1},w2={w2},w3={w3},bias={b}\")\n",
        "\n",
        "\n",
        "\n",
        "\n"
      ],
      "metadata": {
        "colab": {
          "base_uri": "https://localhost:8080/"
        },
        "id": "9xHO2b4XZvv7",
        "outputId": "4d7f7672-bbd2-420b-85b7-35de5d27e592"
      },
      "execution_count": 8,
      "outputs": [
        {
          "output_type": "stream",
          "name": "stdout",
          "text": [
            "trained weights:w1=0.33316897700566694,w2=0.3439863290130219,w3=0.3551988389963807,bias=0.0006776470628949716\n"
          ]
        }
      ]
    },
    {
      "cell_type": "code",
      "source": [
        "starting_year=int(input(\"Enter the starting year to predict for the 4th year:\"))\n",
        "starting_index=years.index(starting_year)\n",
        "test_input=[population[starting_index],population[starting_index+1],population[starting_index+2]]\n",
        "predicted_population=w1*test_input[0]+w2*test_input[1]+w3*test_input[2]+b\n",
        "actual_population=population[starting_index+3]\n",
        "predicted_year=starting_year+3\n",
        "print(f\"predicted population for {predicted_year}:{predicted_population}M\")\n",
        "print(f\"actual population for{predicted_year}:{actual_population}M\")\n",
        "print(f\"error:{abs(predicted_population-actual_population)}M\")\n"
      ],
      "metadata": {
        "colab": {
          "base_uri": "https://localhost:8080/"
        },
        "id": "7bBM6OFLe-sv",
        "outputId": "fafa15af-a6e2-4c9a-944d-9617c35cef31"
      },
      "execution_count": 12,
      "outputs": [
        {
          "output_type": "stream",
          "name": "stdout",
          "text": [
            "Enter the starting year to predict for the 4th year:2007\n",
            "predicted population for 2010:1239.7598907970657M\n",
            "actual population for2010:1234.28M\n",
            "error:5.479890797065764M\n"
          ]
        }
      ]
    },
    {
      "cell_type": "code",
      "source": [],
      "metadata": {
        "id": "obYM2dEbLAOa"
      },
      "execution_count": null,
      "outputs": []
    }
  ]
}